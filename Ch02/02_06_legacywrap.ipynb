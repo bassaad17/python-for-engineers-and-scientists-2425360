{
 "cells": [
  {
   "cell_type": "markdown",
   "metadata": {
    "pycharm": {
     "name": "#%% md\n"
    }
   },
   "source": [
    "# 02_06_legacywrap.ipynb - Wrapping legacy code with Cython, CFFI, and F2PY"
   ]
  },
  {
   "cell_type": "code",
   "execution_count": 1,
   "outputs": [],
   "source": [
    "# Ran on Ubuntu Linux 20.04LTS\n",
    "# May 16, 2022 (BA17)"
   ],
   "metadata": {
    "collapsed": false,
    "pycharm": {
     "name": "#%%\n"
    }
   }
  },
  {
   "cell_type": "code",
   "execution_count": 2,
   "metadata": {
    "pycharm": {
     "name": "#%%\n"
    }
   },
   "outputs": [],
   "source": [
    "import math\n",
    "import numpy as np\n",
    "import matplotlib.pyplot as pp"
   ]
  },
  {
   "cell_type": "markdown",
   "metadata": {
    "pycharm": {
     "name": "#%% md\n"
    }
   },
   "source": [
    "#### Code from 02_03_numpycompute.ipynb"
   ]
  },
  {
   "cell_type": "code",
   "execution_count": 3,
   "metadata": {
    "pycharm": {
     "name": "#%%\n"
    }
   },
   "outputs": [],
   "source": [
    "def initphi(n=64):\n",
    "    dx = 1/n\n",
    "    xs = np.linspace(0.5*dx, 1-0.5*dx, n)\n",
    "    \n",
    "    phi = np.zeros((n,n), 'd')\n",
    "    \n",
    "    phi[:,-1] = np.sin(2 * math.pi * xs)\n",
    "    phi[-1,:] = -np.sin(2 * math.pi * xs)\n",
    "    \n",
    "    return phi"
   ]
  },
  {
   "cell_type": "code",
   "execution_count": 4,
   "metadata": {
    "pycharm": {
     "name": "#%%\n"
    }
   },
   "outputs": [],
   "source": [
    "def showphi(array, colorbar=True):\n",
    "    pp.imshow(array.T, origin='lower', extent=(0,1,0,1),\n",
    "              vmin=-1, vmax=1, cmap='coolwarm')\n",
    "    \n",
    "    if colorbar:\n",
    "        pp.colorbar()"
   ]
  },
  {
   "cell_type": "markdown",
   "metadata": {
    "pycharm": {
     "name": "#%% md\n"
    }
   },
   "source": [
    "#### Wrapping C with Cython"
   ]
  },
  {
   "cell_type": "code",
   "execution_count": 5,
   "metadata": {
    "pycharm": {
     "name": "#%%\n"
    }
   },
   "outputs": [
    {
     "name": "stdout",
     "output_type": "stream",
     "text": [
      "Writing gauss_iterate.c\n"
     ]
    }
   ],
   "source": [
    "%%file gauss_iterate.c\n",
    "\n",
    "#define A(i,j) (array[(i)*nx + (j)])\n",
    "\n",
    "void gauss_iterate(int nx, int ny, double *array, int iterations) {\n",
    "    for(int k=0; k<iterations; k++) {\n",
    "        for(int i=1; i<nx-1; i++) {\n",
    "            for(int j=1; j<ny-1; j++) {\n",
    "                A(i,j) = (A(i-1,j) + A(i+1,j) + A(i,j-1) + A(i,j+1)) / 4;\n",
    "            }\n",
    "        }\n",
    "    }\n",
    "}"
   ]
  },
  {
   "cell_type": "code",
   "execution_count": 6,
   "metadata": {
    "pycharm": {
     "name": "#%%\n"
    }
   },
   "outputs": [
    {
     "name": "stdout",
     "output_type": "stream",
     "text": [
      "Writing gauss_iterate.h\n"
     ]
    }
   ],
   "source": [
    "%%file gauss_iterate.h\n",
    "\n",
    "void gauss_iterate(int nx, int ny, double *array, int iterations);"
   ]
  },
  {
   "cell_type": "code",
   "execution_count": 7,
   "metadata": {
    "pycharm": {
     "name": "#%%\n"
    }
   },
   "outputs": [
    {
     "name": "stdout",
     "output_type": "stream",
     "text": [
      "Writing cgauss.pyx\n"
     ]
    }
   ],
   "source": [
    "%%file cgauss.pyx\n",
    "\n",
    "# cython: language_level=3\n",
    "\n",
    "cdef extern from \"gauss_iterate.h\":\n",
    "    cdef void gauss_iterate(int nx, int ny, double array[], int iterations)\n",
    "\n",
    "# it would be even safer to declare array with \"double [:,::1]\",\n",
    "# which would accept only contiguous arrays\n",
    "\n",
    "def gauss(double [:,:] array, int iterations):\n",
    "    # array is a Cython \"memoryview\", but it supports numpy\n",
    "    # operations such as obtaining its shape\n",
    "    cdef int nx = array.shape[0], ny = array.shape[1]\n",
    "    \n",
    "    # call the C function, obtaining the address of the first array item\n",
    "    gauss_iterate(nx, ny, &array[0,0], iterations)"
   ]
  },
  {
   "cell_type": "code",
   "execution_count": 8,
   "metadata": {
    "pycharm": {
     "name": "#%%\n"
    }
   },
   "outputs": [
    {
     "name": "stdout",
     "output_type": "stream",
     "text": [
      "Writing setup.py\n"
     ]
    }
   ],
   "source": [
    "%%file setup.py\n",
    "\n",
    "from setuptools import setup, Extension\n",
    "from Cython.Build import cythonize\n",
    "\n",
    "ext_modules = [\n",
    "    Extension(\"cgauss\",\n",
    "              sources=[\"cgauss.pyx\", \"gauss_iterate.c\"],\n",
    "              includes=[\"gauss_iterate.h\"]\n",
    "              )\n",
    "]\n",
    "\n",
    "setup(name=\"gauss\",\n",
    "      ext_modules=cythonize(ext_modules))"
   ]
  },
  {
   "cell_type": "code",
   "execution_count": 9,
   "metadata": {
    "pycharm": {
     "name": "#%%\n"
    }
   },
   "outputs": [
    {
     "name": "stdout",
     "output_type": "stream",
     "text": [
      "/home/bassaad17/anaconda3/lib/python3.9/distutils/extension.py:131: UserWarning: Unknown Extension options: 'includes'\r\n",
      "  warnings.warn(msg)\r\n",
      "Compiling cgauss.pyx because it changed.\r\n",
      "[1/1] Cythonizing cgauss.pyx\r\n",
      "running build_ext\r\n",
      "building 'cgauss' extension\r\n",
      "creating build\r\n",
      "creating build/temp.linux-x86_64-3.9\r\n",
      "gcc -pthread -B /home/bassaad17/anaconda3/compiler_compat -Wno-unused-result -Wsign-compare -DNDEBUG -O2 -Wall -fPIC -O2 -isystem /home/bassaad17/anaconda3/include -I/home/bassaad17/anaconda3/include -fPIC -O2 -isystem /home/bassaad17/anaconda3/include -fPIC -I/home/bassaad17/anaconda3/include/python3.9 -c cgauss.c -o build/temp.linux-x86_64-3.9/cgauss.o\r\n",
      "gcc -pthread -B /home/bassaad17/anaconda3/compiler_compat -Wno-unused-result -Wsign-compare -DNDEBUG -O2 -Wall -fPIC -O2 -isystem /home/bassaad17/anaconda3/include -I/home/bassaad17/anaconda3/include -fPIC -O2 -isystem /home/bassaad17/anaconda3/include -fPIC -I/home/bassaad17/anaconda3/include/python3.9 -c gauss_iterate.c -o build/temp.linux-x86_64-3.9/gauss_iterate.o\r\n",
      "creating build/lib.linux-x86_64-3.9\r\n",
      "gcc -pthread -B /home/bassaad17/anaconda3/compiler_compat -shared -Wl,-rpath,/home/bassaad17/anaconda3/lib -Wl,-rpath-link,/home/bassaad17/anaconda3/lib -L/home/bassaad17/anaconda3/lib -L/home/bassaad17/anaconda3/lib -Wl,-rpath,/home/bassaad17/anaconda3/lib -Wl,-rpath-link,/home/bassaad17/anaconda3/lib -L/home/bassaad17/anaconda3/lib build/temp.linux-x86_64-3.9/cgauss.o build/temp.linux-x86_64-3.9/gauss_iterate.o -o build/lib.linux-x86_64-3.9/cgauss.cpython-39-x86_64-linux-gnu.so\r\n",
      "copying build/lib.linux-x86_64-3.9/cgauss.cpython-39-x86_64-linux-gnu.so -> \r\n"
     ]
    }
   ],
   "source": [
    "!python setup.py build_ext --inplace"
   ]
  },
  {
   "cell_type": "code",
   "execution_count": 10,
   "metadata": {
    "pycharm": {
     "name": "#%%\n"
    }
   },
   "outputs": [],
   "source": [
    "import cgauss"
   ]
  },
  {
   "cell_type": "code",
   "execution_count": 11,
   "metadata": {
    "pycharm": {
     "name": "#%%\n"
    }
   },
   "outputs": [
    {
     "data": {
      "text/plain": "<function cgauss.gauss>"
     },
     "execution_count": 11,
     "metadata": {},
     "output_type": "execute_result"
    }
   ],
   "source": [
    "cgauss.gauss"
   ]
  },
  {
   "cell_type": "code",
   "execution_count": 12,
   "metadata": {
    "pycharm": {
     "name": "#%%\n"
    }
   },
   "outputs": [],
   "source": [
    "phi = initphi(128)"
   ]
  },
  {
   "cell_type": "code",
   "execution_count": 13,
   "metadata": {
    "pycharm": {
     "name": "#%%\n"
    }
   },
   "outputs": [],
   "source": [
    "cgauss.gauss(phi, 2000)"
   ]
  },
  {
   "cell_type": "code",
   "execution_count": 14,
   "metadata": {
    "pycharm": {
     "name": "#%%\n"
    }
   },
   "outputs": [
    {
     "data": {
      "text/plain": "<Figure size 432x288 with 2 Axes>",
      "image/png": "[encoded data removed]"
     },
     "metadata": {
      "needs_background": "light"
     },
     "output_type": "display_data"
    }
   ],
   "source": [
    "showphi(phi)"
   ]
  },
  {
   "cell_type": "markdown",
   "metadata": {
    "pycharm": {
     "name": "#%% md\n"
    }
   },
   "source": [
    "#### Wrapping C with CFFI"
   ]
  },
  {
   "cell_type": "code",
   "execution_count": 15,
   "metadata": {
    "pycharm": {
     "name": "#%%\n"
    }
   },
   "outputs": [],
   "source": [
    "# on OS X or Linux (including WSL)\n",
    "!gcc -I. gauss_iterate.c -shared -o gauss_iterate.so"
   ]
  },
  {
   "cell_type": "code",
   "execution_count": 16,
   "metadata": {
    "pycharm": {
     "name": "#%%\n"
    }
   },
   "outputs": [],
   "source": [
    "# on Windows with Visual Studio 2019\n",
    "# open the x64 Native Tools Command Prompt\n",
    "# navigate to Ch02 folder\n",
    "\n",
    "# cl /LD gauss_iterate.c"
   ]
  },
  {
   "cell_type": "code",
   "execution_count": 17,
   "metadata": {
    "pycharm": {
     "name": "#%%\n"
    }
   },
   "outputs": [],
   "source": [
    "from cffi import FFI"
   ]
  },
  {
   "cell_type": "code",
   "execution_count": 18,
   "metadata": {
    "pycharm": {
     "name": "#%%\n"
    }
   },
   "outputs": [],
   "source": [
    "ffi = FFI()"
   ]
  },
  {
   "cell_type": "code",
   "execution_count": 19,
   "metadata": {
    "pycharm": {
     "name": "#%%\n"
    }
   },
   "outputs": [],
   "source": [
    "ffi.cdef(\"void gauss_iterate(int nx, int ny, double *array, int iterations);\")"
   ]
  },
  {
   "cell_type": "code",
   "execution_count": 20,
   "metadata": {
    "pycharm": {
     "name": "#%%\n"
    }
   },
   "outputs": [],
   "source": [
    "cfgauss = ffi.dlopen('./gauss_iterate.so')\n",
    "\n",
    "# on Windows with Visual Studio 2019\n",
    "# cfgauss = ffi.dlopen('gauss_iterate.dll')"
   ]
  },
  {
   "cell_type": "code",
   "execution_count": 21,
   "metadata": {
    "pycharm": {
     "name": "#%%\n"
    }
   },
   "outputs": [
    {
     "data": {
      "text/plain": "<cffi.api._make_ffi_library.<locals>.FFILibrary at 0x7fe9a3ad7280>"
     },
     "execution_count": 21,
     "metadata": {},
     "output_type": "execute_result"
    }
   ],
   "source": [
    "cfgauss"
   ]
  },
  {
   "cell_type": "code",
   "execution_count": 22,
   "metadata": {
    "pycharm": {
     "name": "#%%\n"
    }
   },
   "outputs": [],
   "source": [
    "phi = initphi(128)"
   ]
  },
  {
   "cell_type": "code",
   "execution_count": 23,
   "metadata": {
    "pycharm": {
     "name": "#%%\n"
    }
   },
   "outputs": [],
   "source": [
    "cfgauss.gauss_iterate(128, 128, ffi.cast(\"double *\", phi.ctypes.data), 2000)"
   ]
  },
  {
   "cell_type": "code",
   "execution_count": 24,
   "metadata": {
    "pycharm": {
     "name": "#%%\n"
    }
   },
   "outputs": [
    {
     "data": {
      "text/plain": "<Figure size 432x288 with 2 Axes>",
      "image/png": "[encoded data removed]"
     },
     "metadata": {
      "needs_background": "light"
     },
     "output_type": "display_data"
    }
   ],
   "source": [
    "showphi(phi)"
   ]
  },
  {
   "cell_type": "markdown",
   "metadata": {
    "pycharm": {
     "name": "#%% md\n"
    }
   },
   "source": [
    "#### Wrapping Fortran with f2py"
   ]
  },
  {
   "cell_type": "code",
   "execution_count": 25,
   "metadata": {
    "pycharm": {
     "name": "#%%\n"
    }
   },
   "outputs": [
    {
     "name": "stdout",
     "output_type": "stream",
     "text": [
      "Writing gauss_iterate.f90\n"
     ]
    }
   ],
   "source": [
    "%%file gauss_iterate.f90\n",
    "\n",
    "subroutine gauss(array,nx,ny,iterations)\n",
    "    implicit none\n",
    "\n",
    "    real*8, dimension(0:nx-1,0:ny-1), intent(inout) :: array\n",
    "    integer, intent(in)                             :: nx,ny,iterations\n",
    "\n",
    "    integer k,i,j\n",
    "            \n",
    "    do k=1,iterations\n",
    "        do i=1,nx-2\n",
    "            do j=1,ny-2\n",
    "                array(i,j) = (array(i-1,j) + array(i+1,j) + array(i,j-1) + array(i,j+1)) / 4\n",
    "            end do\n",
    "        end do\n",
    "    end do\n",
    "\n",
    "    return\n",
    "end subroutine gauss"
   ]
  },
  {
   "cell_type": "code",
   "execution_count": 26,
   "metadata": {
    "pycharm": {
     "name": "#%%\n"
    }
   },
   "outputs": [
    {
     "name": "stdout",
     "output_type": "stream",
     "text": [
      "\u001B[39mrunning build\u001B[0m\r\n",
      "\u001B[39mrunning config_cc\u001B[0m\r\n",
      "\u001B[39munifing config_cc, config, build_clib, build_ext, build commands --compiler options\u001B[0m\r\n",
      "\u001B[39mrunning config_fc\u001B[0m\r\n",
      "\u001B[39munifing config_fc, config, build_clib, build_ext, build commands --fcompiler options\u001B[0m\r\n",
      "\u001B[39mrunning build_src\u001B[0m\r\n",
      "\u001B[39mbuild_src\u001B[0m\r\n",
      "\u001B[39mbuilding extension \"fgauss\" sources\u001B[0m\r\n",
      "\u001B[39mf2py options: []\u001B[0m\r\n",
      "\u001B[39mf2py:> /tmp/tmpa6wf9p24/src.linux-x86_64-3.9/fgaussmodule.c\u001B[0m\r\n",
      "\u001B[39mcreating /tmp/tmpa6wf9p24/src.linux-x86_64-3.9\u001B[0m\r\n",
      "Reading fortran codes...\r\n",
      "\tReading file 'gauss_iterate.f90' (format:free)\r\n",
      "Post-processing...\r\n",
      "\tBlock: fgauss\r\n",
      "\t\t\tBlock: gauss\r\n",
      "Post-processing (stage 2)...\r\n",
      "Building modules...\r\n",
      "\tBuilding module \"fgauss\"...\r\n",
      "\t\tConstructing wrapper function \"gauss\"...\r\n",
      "\t\t  gauss(array,iterations,[nx,ny])\r\n",
      "\tWrote C/API module \"fgauss\" to file \"/tmp/tmpa6wf9p24/src.linux-x86_64-3.9/fgaussmodule.c\"\r\n",
      "\u001B[39m  adding '/tmp/tmpa6wf9p24/src.linux-x86_64-3.9/fortranobject.c' to sources.\u001B[0m\r\n",
      "\u001B[39m  adding '/tmp/tmpa6wf9p24/src.linux-x86_64-3.9' to include_dirs.\u001B[0m\r\n",
      "\u001B[39mcopying /home/bassaad17/anaconda3/lib/python3.9/site-packages/numpy/f2py/src/fortranobject.c -> /tmp/tmpa6wf9p24/src.linux-x86_64-3.9\u001B[0m\r\n",
      "\u001B[39mcopying /home/bassaad17/anaconda3/lib/python3.9/site-packages/numpy/f2py/src/fortranobject.h -> /tmp/tmpa6wf9p24/src.linux-x86_64-3.9\u001B[0m\r\n",
      "\u001B[39mbuild_src: building npy-pkg config files\u001B[0m\r\n",
      "\u001B[39mrunning build_ext\u001B[0m\r\n",
      "\u001B[39mcustomize UnixCCompiler\u001B[0m\r\n",
      "\u001B[39mcustomize UnixCCompiler using build_ext\u001B[0m\r\n",
      "\u001B[39mget_default_fcompiler: matching types: '['gnu95', 'intel', 'lahey', 'pg', 'nv', 'absoft', 'nag', 'vast', 'compaq', 'intele', 'intelem', 'gnu', 'g95', 'pathf95', 'nagfor', 'fujitsu']'\u001B[0m\r\n",
      "\u001B[39mcustomize Gnu95FCompiler\u001B[0m\r\n",
      "\u001B[39mFound executable /usr/bin/gfortran\u001B[0m\r\n",
      "\u001B[39mcustomize Gnu95FCompiler\u001B[0m\r\n",
      "\u001B[39mcustomize Gnu95FCompiler using build_ext\u001B[0m\r\n",
      "\u001B[39mbuilding 'fgauss' extension\u001B[0m\r\n",
      "\u001B[39mcompiling C sources\u001B[0m\r\n",
      "\u001B[39mC compiler: gcc -pthread -B /home/bassaad17/anaconda3/compiler_compat -Wno-unused-result -Wsign-compare -DNDEBUG -O2 -Wall -fPIC -O2 -isystem /home/bassaad17/anaconda3/include -I/home/bassaad17/anaconda3/include -fPIC -O2 -isystem /home/bassaad17/anaconda3/include -fPIC\r\n",
      "\u001B[0m\r\n",
      "\u001B[39mcreating /tmp/tmpa6wf9p24/tmp\u001B[0m\r\n",
      "\u001B[39mcreating /tmp/tmpa6wf9p24/tmp/tmpa6wf9p24\u001B[0m\r\n",
      "\u001B[39mcreating /tmp/tmpa6wf9p24/tmp/tmpa6wf9p24/src.linux-x86_64-3.9\u001B[0m\r\n",
      "\u001B[39mcompile options: '-DNPY_DISABLE_OPTIMIZATION=1 -I/tmp/tmpa6wf9p24/src.linux-x86_64-3.9 -I/home/bassaad17/anaconda3/lib/python3.9/site-packages/numpy/core/include -I/home/bassaad17/anaconda3/include/python3.9 -c'\u001B[0m\r\n",
      "\u001B[39mgcc: /tmp/tmpa6wf9p24/src.linux-x86_64-3.9/fgaussmodule.c\u001B[0m\r\n",
      "\u001B[39mgcc: /tmp/tmpa6wf9p24/src.linux-x86_64-3.9/fortranobject.c\u001B[0m\r\n",
      "In file included from \u001B[01m\u001B[K/home/bassaad17/anaconda3/lib/python3.9/site-packages/numpy/core/include/numpy/ndarraytypes.h:1944\u001B[m\u001B[K,\r\n",
      "                 from \u001B[01m\u001B[K/home/bassaad17/anaconda3/lib/python3.9/site-packages/numpy/core/include/numpy/ndarrayobject.h:12\u001B[m\u001B[K,\r\n",
      "                 from \u001B[01m\u001B[K/home/bassaad17/anaconda3/lib/python3.9/site-packages/numpy/core/include/numpy/arrayobject.h:4\u001B[m\u001B[K,\r\n",
      "                 from \u001B[01m\u001B[K/tmp/tmpa6wf9p24/src.linux-x86_64-3.9/fortranobject.h:13\u001B[m\u001B[K,\r\n",
      "                 from \u001B[01m\u001B[K/tmp/tmpa6wf9p24/src.linux-x86_64-3.9/fortranobject.c:2\u001B[m\u001B[K:\r\n",
      "\u001B[01m\u001B[K/home/bassaad17/anaconda3/lib/python3.9/site-packages/numpy/core/include/numpy/npy_1_7_deprecated_api.h:17:2:\u001B[m\u001B[K \u001B[01;35m\u001B[Kwarning: \u001B[m\u001B[K#warning \"Using deprecated NumPy API, disable it with \" \"#define NPY_NO_DEPRECATED_API NPY_1_7_API_VERSION\" [\u001B[01;35m\u001B[K-Wcpp\u001B[m\u001B[K]\r\n",
      "   17 | #\u001B[01;35m\u001B[Kwarning\u001B[m\u001B[K \"Using deprecated NumPy API, disable it with \" \\\r\n",
      "      |  \u001B[01;35m\u001B[K^~~~~~~\u001B[m\u001B[K\r\n",
      "In file included from \u001B[01m\u001B[K/home/bassaad17/anaconda3/lib/python3.9/site-packages/numpy/core/include/numpy/ndarraytypes.h:1944\u001B[m\u001B[K,\r\n",
      "                 from \u001B[01m\u001B[K/home/bassaad17/anaconda3/lib/python3.9/site-packages/numpy/core/include/numpy/ndarrayobject.h:12\u001B[m\u001B[K,\r\n",
      "                 from \u001B[01m\u001B[K/home/bassaad17/anaconda3/lib/python3.9/site-packages/numpy/core/include/numpy/arrayobject.h:4\u001B[m\u001B[K,\r\n",
      "                 from \u001B[01m\u001B[K/tmp/tmpa6wf9p24/src.linux-x86_64-3.9/fortranobject.h:13\u001B[m\u001B[K,\r\n",
      "                 from \u001B[01m\u001B[K/tmp/tmpa6wf9p24/src.linux-x86_64-3.9/fgaussmodule.c:16\u001B[m\u001B[K:\r\n",
      "\u001B[01m\u001B[K/home/bassaad17/anaconda3/lib/python3.9/site-packages/numpy/core/include/numpy/npy_1_7_deprecated_api.h:17:2:\u001B[m\u001B[K \u001B[01;35m\u001B[Kwarning: \u001B[m\u001B[K#warning \"Using deprecated NumPy API, disable it with \" \"#define NPY_NO_DEPRECATED_API NPY_1_7_API_VERSION\" [\u001B[01;35m\u001B[K-Wcpp\u001B[m\u001B[K]\r\n",
      "   17 | #\u001B[01;35m\u001B[Kwarning\u001B[m\u001B[K \"Using deprecated NumPy API, disable it with \" \\\r\n",
      "      |  \u001B[01;35m\u001B[K^~~~~~~\u001B[m\u001B[K\r\n",
      "\u001B[01m\u001B[K/tmp/tmpa6wf9p24/src.linux-x86_64-3.9/fgaussmodule.c:109:12:\u001B[m\u001B[K \u001B[01;35m\u001B[Kwarning: \u001B[m\u001B[K‘\u001B[01m\u001B[Kf2py_size\u001B[m\u001B[K’ defined but not used [\u001B[01;35m\u001B[K-Wunused-function\u001B[m\u001B[K]\r\n",
      "  109 | static int \u001B[01;35m\u001B[Kf2py_size\u001B[m\u001B[K(PyArrayObject* var, ...)\r\n",
      "      |            \u001B[01;35m\u001B[K^~~~~~~~~\u001B[m\u001B[K\r\n",
      "\u001B[39mcompiling Fortran sources\u001B[0m\r\n",
      "\u001B[39mFortran f77 compiler: /usr/bin/gfortran -Wall -g -ffixed-form -fno-second-underscore -fPIC -O3 -funroll-loops\r\n",
      "Fortran f90 compiler: /usr/bin/gfortran -Wall -g -fno-second-underscore -fPIC -O3 -funroll-loops\r\n",
      "Fortran fix compiler: /usr/bin/gfortran -Wall -g -ffixed-form -fno-second-underscore -Wall -g -fno-second-underscore -fPIC -O3 -funroll-loops\u001B[0m\r\n",
      "\u001B[39mcompile options: '-I/tmp/tmpa6wf9p24/src.linux-x86_64-3.9 -I/home/bassaad17/anaconda3/lib/python3.9/site-packages/numpy/core/include -I/home/bassaad17/anaconda3/include/python3.9 -c'\u001B[0m\r\n",
      "\u001B[39mgfortran:f90: gauss_iterate.f90\u001B[0m\r\n",
      "\u001B[39m/usr/bin/gfortran -Wall -g -Wall -g -shared /tmp/tmpa6wf9p24/tmp/tmpa6wf9p24/src.linux-x86_64-3.9/fgaussmodule.o /tmp/tmpa6wf9p24/tmp/tmpa6wf9p24/src.linux-x86_64-3.9/fortranobject.o /tmp/tmpa6wf9p24/gauss_iterate.o -L/usr/lib/gcc/x86_64-linux-gnu/9 -L/usr/lib/gcc/x86_64-linux-gnu/9 -lgfortran -o ./fgauss.cpython-39-x86_64-linux-gnu.so\u001B[0m\r\n",
      "Removing build directory /tmp/tmpa6wf9p24\r\n"
     ]
    }
   ],
   "source": [
    "!f2py3 -m fgauss -c gauss_iterate.f90"
   ]
  },
  {
   "cell_type": "code",
   "execution_count": 27,
   "metadata": {
    "pycharm": {
     "name": "#%%\n"
    }
   },
   "outputs": [],
   "source": [
    "import fgauss"
   ]
  },
  {
   "cell_type": "code",
   "execution_count": 28,
   "metadata": {
    "pycharm": {
     "name": "#%%\n"
    }
   },
   "outputs": [],
   "source": [
    "?fgauss.gauss"
   ]
  },
  {
   "cell_type": "code",
   "execution_count": 29,
   "metadata": {
    "pycharm": {
     "name": "#%%\n"
    }
   },
   "outputs": [],
   "source": [
    "fphi = np.asfortranarray(initphi(128))"
   ]
  },
  {
   "cell_type": "code",
   "execution_count": 30,
   "metadata": {
    "pycharm": {
     "name": "#%%\n"
    }
   },
   "outputs": [],
   "source": [
    "fgauss.gauss(fphi, 2000)"
   ]
  },
  {
   "cell_type": "code",
   "execution_count": 31,
   "metadata": {
    "pycharm": {
     "name": "#%%\n"
    }
   },
   "outputs": [
    {
     "data": {
      "text/plain": "<Figure size 432x288 with 2 Axes>",
      "image/png": "[encoded data removed]"
     },
     "metadata": {
      "needs_background": "light"
     },
     "output_type": "display_data"
    }
   ],
   "source": [
    "showphi(fphi)"
   ]
  },
  {
   "cell_type": "markdown",
   "metadata": {
    "pycharm": {
     "name": "#%% md\n"
    }
   },
   "source": [
    "#### Wrapping Fortran with fortran-magic"
   ]
  },
  {
   "cell_type": "code",
   "execution_count": 32,
   "metadata": {
    "pycharm": {
     "name": "#%%\n"
    }
   },
   "outputs": [
    {
     "data": {
      "application/javascript": "new Promise(function(resolve, reject) {\n\tvar script = document.createElement(\"script\");\n\tscript.onload = resolve;\n\tscript.onerror = reject;\n\tscript.src = \"https://raw.github.com/marijnh/CodeMirror/master/mode/fortran/fortran.js\";\n\tdocument.head.appendChild(script);\n}).then(() => {\nIPython.config.cell_magic_highlight['magic_fortran'] = {'reg':[/^%%fortran/]};\n});"
     },
     "metadata": {},
     "output_type": "display_data"
    }
   ],
   "source": [
    "# !pip install fortran-magic\n",
    "%load_ext fortranmagic"
   ]
  },
  {
   "cell_type": "code",
   "execution_count": 33,
   "metadata": {
    "pycharm": {
     "name": "#%%\n"
    }
   },
   "outputs": [],
   "source": [
    "%%fortran\n",
    "\n",
    "subroutine fgauss(array,nx,ny,iterations)\n",
    "    implicit none\n",
    "\n",
    "    real*8, dimension(0:nx-1,0:ny-1), intent(inout) :: array\n",
    "    integer, intent(in)                             :: nx,ny,iterations\n",
    "\n",
    "    integer k,i,j\n",
    "            \n",
    "    do k=1,iterations\n",
    "        do i=1,nx-2\n",
    "            do j=1,ny-2\n",
    "                array(i,j) = (array(i-1,j) + array(i+1,j) + array(i,j-1) + array(i,j+1)) / 4\n",
    "            end do\n",
    "        end do\n",
    "    end do\n",
    "\n",
    "    return\n",
    "end subroutine fgauss"
   ]
  },
  {
   "cell_type": "code",
   "execution_count": 34,
   "metadata": {
    "pycharm": {
     "name": "#%%\n"
    }
   },
   "outputs": [
    {
     "data": {
      "text/plain": "<fortran object>"
     },
     "execution_count": 34,
     "metadata": {},
     "output_type": "execute_result"
    }
   ],
   "source": [
    "fgauss"
   ]
  },
  {
   "cell_type": "code",
   "execution_count": 35,
   "metadata": {
    "pycharm": {
     "name": "#%%\n"
    }
   },
   "outputs": [],
   "source": [
    "?fgauss"
   ]
  },
  {
   "cell_type": "code",
   "execution_count": 35,
   "metadata": {
    "pycharm": {
     "name": "#%%\n"
    }
   },
   "outputs": [],
   "source": []
  }
 ],
 "metadata": {
  "kernelspec": {
   "display_name": "Python 3",
   "language": "python",
   "name": "python3"
  },
  "language_info": {
   "codemirror_mode": {
    "name": "ipython",
    "version": 3
   },
   "file_extension": ".py",
   "mimetype": "text/x-python",
   "name": "python",
   "nbconvert_exporter": "python",
   "pygments_lexer": "ipython3",
   "version": "3.8.8"
  },
  "toc": {
   "base_numbering": 1,
   "nav_menu": {},
   "number_sections": true,
   "sideBar": true,
   "skip_h1_title": false,
   "title_cell": "Table of Contents",
   "title_sidebar": "Contents",
   "toc_cell": false,
   "toc_position": {},
   "toc_section_display": true,
   "toc_window_display": false
  }
 },
 "nbformat": 4,
 "nbformat_minor": 4
}